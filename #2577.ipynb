{
 "cells": [
  {
   "cell_type": "markdown",
   "source": [
    "## 문제\r\n",
    "세 개의 자연수 A, B, C가 주어질 때 A × B × C를 계산한 결과에 0부터 9까지 각각의 숫자가 몇 번씩 쓰였는지를 구하는 프로그램을 작성하시오.\r\n",
    "  \r\n",
    "예를 들어 A = 150, B = 266, C = 427 이라면 A × B × C = 150 × 266 × 427 = 17037300 이 되고, 계산한 결과 17037300 에는 0이 3번, 1이 1번, 3이 2번, 7이 2번 쓰였다.\r\n",
    "<br/><br/>\r\n",
    "\r\n",
    "  \r\n",
    "\r\n",
    "  \r\n",
    "\r\n",
    "  \r\n"
   ],
   "metadata": {}
  },
  {
   "cell_type": "markdown",
   "source": [
    "### 입력\r\n",
    "첫째 줄에 A, 둘째 줄에 B, 셋째 줄에 C가 주어진다. A, B, C는 모두 100보다 크거나 같고, 1,000보다 작은 자연수이다.\r\n",
    "<br/><br/>"
   ],
   "metadata": {}
  },
  {
   "cell_type": "markdown",
   "source": [
    "### 출력\r\n",
    "첫째 줄에는 A × B × C의 결과에 0 이 몇 번 쓰였는지 출력한다. 마찬가지로 둘째 줄부터 열 번째 줄까지 A × B × C의 결과에 1부터 9까지의 숫자가 각각 몇 번 쓰였는지 차례로 한 줄에 하나씩 출력한다.\r\n",
    "<br/><br/>"
   ],
   "metadata": {}
  },
  {
   "cell_type": "markdown",
   "source": [
    "### 예제 입력 1 \r\n",
    "150  \r\n",
    "266  \r\n",
    "427  \r\n",
    "<br/><br/>\r\n",
    "  \r\n",
    "### 예제 출력 1 \r\n",
    "3  \r\n",
    "1  \r\n",
    "0  \r\n",
    "2  \r\n",
    "0  \r\n",
    "0  \r\n",
    "0  \r\n",
    "2  \r\n",
    "0  \r\n",
    "0  "
   ],
   "metadata": {}
  },
  {
   "cell_type": "markdown",
   "source": [
    "## 소스코드"
   ],
   "metadata": {}
  },
  {
   "cell_type": "code",
   "execution_count": 13,
   "source": [
    "a = int(input())\r\n",
    "b = int(input())\r\n",
    "c = int(input())\r\n",
    "\r\n",
    "# str() : 문자열로 변환\r\n",
    "# list() : 리스트로 변환\r\n",
    "result = list(str(a * b * c))\r\n",
    "\r\n",
    "for i in range(10) :\r\n",
    "    print(result.count(str(i)))"
   ],
   "outputs": [
    {
     "output_type": "stream",
     "name": "stdout",
     "text": [
      "1\n",
      "0\n",
      "3\n",
      "1\n",
      "0\n",
      "1\n",
      "1\n",
      "1\n",
      "0\n",
      "0\n"
     ]
    }
   ],
   "metadata": {}
  }
 ],
 "metadata": {
  "orig_nbformat": 4,
  "language_info": {
   "name": "python",
   "version": "3.9.6",
   "mimetype": "text/x-python",
   "codemirror_mode": {
    "name": "ipython",
    "version": 3
   },
   "pygments_lexer": "ipython3",
   "nbconvert_exporter": "python",
   "file_extension": ".py"
  },
  "kernelspec": {
   "name": "python3",
   "display_name": "Python 3.9.6 64-bit"
  },
  "interpreter": {
   "hash": "3f211bf9c741620d2a6becd5284e2a657bd2eab0828916f8d014f6ab4af7b153"
  }
 },
 "nbformat": 4,
 "nbformat_minor": 2
}