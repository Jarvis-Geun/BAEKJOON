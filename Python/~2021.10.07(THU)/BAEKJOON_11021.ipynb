{
 "cells": [
  {
   "cell_type": "code",
   "execution_count": 7,
   "id": "fc790f1a",
   "metadata": {},
   "outputs": [
    {
     "output_type": "stream",
     "name": "stdout",
     "text": [
      "Case #1: 2\n",
      "Case #2: 4\n",
      "Case #3: 106\n",
      "Case #4: 77\n",
      "Case #5: 5\n"
     ]
    }
   ],
   "source": [
    "# BAEKJOON_11021\n",
    "# 두 정수 A와 B를 입력받은 다음, A+B를 출력하는 프로그램을 작성하시오.\n",
    "\n",
    "T = int(input())\n",
    "\n",
    "for t in range(T) :\n",
    "    A, B = input().split()\n",
    "    A = int(A)\n",
    "    B = int(B)\n",
    "    print(\"Case #%d: %d\" %(t+1, A+B))"
   ]
  },
  {
   "cell_type": "code",
   "execution_count": null,
   "metadata": {},
   "outputs": [],
   "source": []
  }
 ],
 "metadata": {
  "kernelspec": {
   "name": "python3",
   "display_name": "Python 3.9.6 64-bit"
  },
  "language_info": {
   "codemirror_mode": {
    "name": "ipython",
    "version": 3
   },
   "file_extension": ".py",
   "mimetype": "text/x-python",
   "name": "python",
   "nbconvert_exporter": "python",
   "pygments_lexer": "ipython3",
   "version": "3.9.6"
  },
  "interpreter": {
   "hash": "3f211bf9c741620d2a6becd5284e2a657bd2eab0828916f8d014f6ab4af7b153"
  }
 },
 "nbformat": 4,
 "nbformat_minor": 5
}